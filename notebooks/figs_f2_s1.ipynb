{
  "cells": [
    {
      "cell_type": "markdown",
      "metadata": {
        "id": "view-in-github",
        "colab_type": "text"
      },
      "source": [
        "<a href=\"https://colab.research.google.com/github/pachterlab/JBMMCP_2023/blob/main/notebooks/figs_f2_s1.ipynb\" target=\"_parent\"><img src=\"https://colab.research.google.com/assets/colab-badge.svg\" alt=\"Open In Colab\"/></a>"
      ]
    },
    {
      "cell_type": "code",
      "execution_count": null,
      "metadata": {
        "colab": {
          "base_uri": "https://localhost:8080/"
        },
        "id": "rCEtur7fajGn",
        "outputId": "73e3828e-c336-48d5-ea30-cbb18940f677"
      },
      "outputs": [
        {
          "output_type": "stream",
          "name": "stderr",
          "text": [
            "Warning message in system(\"python3 -c \\\"from google.colab import drive\\ndrive.mount()\\\"\", :\n",
            "“running command 'python3 -c \"from google.colab import drive\n",
            "drive.mount()\"' had status 1”\n"
          ]
        },
        {
          "output_type": "stream",
          "name": "stdout",
          "text": [
            "\n",
            "TRUE\n"
          ]
        }
      ],
      "source": [
        "cat(system('python3 -c \"from google.colab import drive\\ndrive.mount()\"', intern=TRUE), sep='\\n', wait=TRUE)"
      ]
    },
    {
      "cell_type": "markdown",
      "metadata": {
        "id": "IAlAJ1zfNaqm"
      },
      "source": [
        "# Colab Setup"
      ]
    },
    {
      "cell_type": "markdown",
      "metadata": {
        "id": "IB-rVmzkTYn1"
      },
      "source": [
        "### Clone GitHub Repo"
      ]
    },
    {
      "cell_type": "code",
      "execution_count": null,
      "metadata": {
        "id": "kQ4RPXgpTXRh"
      },
      "outputs": [],
      "source": [
        "system(\"git clone https://github.com/pachterlab/JBMMCP_2023.git\")"
      ]
    },
    {
      "cell_type": "markdown",
      "metadata": {
        "id": "PBCQe9xrTgv4"
      },
      "source": [
        "### Install packages from CRAN"
      ]
    },
    {
      "cell_type": "code",
      "execution_count": null,
      "metadata": {
        "colab": {
          "base_uri": "https://localhost:8080/"
        },
        "id": "6wBRELq0M9kX",
        "outputId": "bd1a711e-4c65-4bf8-83af-1ebeb2aae988"
      },
      "outputs": [
        {
          "output_type": "stream",
          "name": "stderr",
          "text": [
            "Installing package into ‘/usr/local/lib/R/site-library’\n",
            "(as ‘lib’ is unspecified)\n",
            "\n"
          ]
        }
      ],
      "source": [
        "install.packages(\"rjson\")"
      ]
    },
    {
      "cell_type": "markdown",
      "metadata": {
        "id": "9-OwDK0HNUl2"
      },
      "source": [
        "### Install Bioconductor pacakges"
      ]
    },
    {
      "cell_type": "code",
      "execution_count": null,
      "metadata": {
        "colab": {
          "base_uri": "https://localhost:8080/"
        },
        "id": "3o11KxDzyC0g",
        "outputId": "4f1f12f4-4aad-4113-c456-528796172eb1"
      },
      "outputs": [
        {
          "output_type": "stream",
          "name": "stderr",
          "text": [
            "Installing package into ‘/usr/local/lib/R/site-library’\n",
            "(as ‘lib’ is unspecified)\n",
            "\n",
            "'getOption(\"repos\")' replaces Bioconductor standard repositories, see\n",
            "'help(\"repositories\", package = \"BiocManager\")' for details.\n",
            "Replacement repositories:\n",
            "    CRAN: https://cran.rstudio.com\n",
            "\n",
            "Bioconductor version 3.17 (BiocManager 1.30.21), R 4.3.0 (2023-04-21)\n",
            "\n",
            "Installing package(s) 'BiocVersion', 'concordexR'\n",
            "\n",
            "also installing the dependencies ‘formatR’, ‘lambda.r’, ‘futile.options’, ‘matrixStats’, ‘futile.logger’, ‘snow’, ‘BH’, ‘BiocGenerics’, ‘MatrixGenerics’, ‘S4Vectors’, ‘IRanges’, ‘S4Arrays’, ‘BiocParallel’, ‘DelayedArray’, ‘pheatmap’\n",
            "\n",
            "\n",
            "Old packages: 'bit', 'broom', 'bslib', 'curl', 'devtools', 'digest', 'gargle',\n",
            "  'gert', 'googledrive', 'googlesheets4', 'highr', 'isoband', 'jsonlite',\n",
            "  'pkgbuild', 'pkgload', 'roxygen2', 'testthat', 'tidyverse', 'usethis',\n",
            "  'vctrs', 'whisker', 'boot', 'foreign'\n",
            "\n",
            "'getOption(\"repos\")' replaces Bioconductor standard repositories, see\n",
            "'help(\"repositories\", package = \"BiocManager\")' for details.\n",
            "Replacement repositories:\n",
            "    CRAN: https://cran.rstudio.com\n",
            "\n",
            "Bioconductor version 3.17 (BiocManager 1.30.21), R 4.3.0 (2023-04-21)\n",
            "\n",
            "Installing package(s) 'BiocNeighbors'\n",
            "\n",
            "also installing the dependencies ‘Rcpp’, ‘RcppHNSW’\n",
            "\n",
            "\n",
            "Old packages: 'bit', 'broom', 'bslib', 'curl', 'devtools', 'digest', 'gargle',\n",
            "  'gert', 'googledrive', 'googlesheets4', 'highr', 'isoband', 'jsonlite',\n",
            "  'pkgbuild', 'pkgload', 'roxygen2', 'testthat', 'tidyverse', 'usethis',\n",
            "  'vctrs', 'whisker', 'boot', 'foreign'\n",
            "\n"
          ]
        }
      ],
      "source": [
        "install.packages(\"BiocManager\", repos = \"http://cran.rstudio.com/\")\n",
        "\n",
        "if (!require(\"BiocManager\", quietly = TRUE))\n",
        "    install.packages(\"BiocManager\")\n",
        "\n",
        "BiocManager::install(\"concordexR\")\n",
        "BiocManager::install(\"BiocNeighbors\")"
      ]
    },
    {
      "cell_type": "markdown",
      "source": [
        "### Load Libraries"
      ],
      "metadata": {
        "id": "sE2hnwyFecXu"
      }
    },
    {
      "cell_type": "code",
      "source": [
        "library(rjson)\n",
        "library(fs)\n",
        "library(readr)\n",
        "library(glue)\n",
        "library(purrr)\n",
        "library(dplyr)\n",
        "\n",
        "library(ggplot2)\n",
        "\n",
        "library(Matrix)\n",
        "library(BiocNeighbors)\n",
        "library(concordexR)\n",
        "\n",
        "set.seed(1923)\n",
        "data_dir <- path_wd(\"JBMMCP_2023/data\")"
      ],
      "metadata": {
        "id": "7REzgU-gSt0T"
      },
      "execution_count": null,
      "outputs": []
    },
    {
      "cell_type": "markdown",
      "source": [
        "### Download Data"
      ],
      "metadata": {
        "id": "AjIPw4f0eiaa"
      }
    },
    {
      "cell_type": "code",
      "source": [
        "# Links to simulated matrices\n",
        "sim <- fromJSON(file=path(data_dir, \"simulations\",\"sim.json\"))"
      ],
      "metadata": {
        "id": "mZStiFDNS8h_"
      },
      "execution_count": null,
      "outputs": []
    },
    {
      "cell_type": "code",
      "source": [
        "for (i in 1:length(sim)){\n",
        "  x <- sim[[i]]\n",
        "\n",
        "  mx_args <- c(\n",
        "    x$mtx_url,\n",
        "    \"-O\", path(data_dir, \"simulations\",x$name, \"matrix.mtx\")\n",
        "  )\n",
        "\n",
        "  lbl_args <- c(\n",
        "    x$label_url,\n",
        "    \"-O\", path(data_dir, \"simulations\",x$name, \"labels.txt\")\n",
        "  )\n",
        "\n",
        "  # Download files\n",
        "  system2(\"wget\", args=lbl_args, stdout = TRUE)\n",
        "  system2(\"wget\", args=mx_args, stdout = TRUE)\n",
        "\n",
        "}\n",
        "\n"
      ],
      "metadata": {
        "id": "yzJ1b5mscJlR"
      },
      "execution_count": null,
      "outputs": []
    },
    {
      "cell_type": "markdown",
      "metadata": {
        "id": "9S7wBc07UZuH"
      },
      "source": [
        "# Analysis"
      ]
    },
    {
      "cell_type": "markdown",
      "metadata": {
        "id": "r3YjkaZXVO_y"
      },
      "source": [
        "Load the simulated matrices here and compute k-nearest neighbor matrix."
      ]
    },
    {
      "cell_type": "code",
      "execution_count": null,
      "metadata": {
        "id": "F3PKTT_VUQzq"
      },
      "outputs": [],
      "source": [
        "folders <- glue(\"{rep(c(1000,2000,4000,8000),c(4,4,4,4))}_{rep(seq(2,8,2),4)}\")\n",
        "\n",
        "# Load all data and make master file\n",
        "dirs <- glue(\"{path(data_dir,'simulations', folders)}\")\n",
        "\n",
        "dirs <- purrr::map(dirs, \\(d) path(d, seq(1, 15, 2), \"ca\"))\n",
        "dirs <- do.call(c, dirs)"
      ]
    },
    {
      "cell_type": "markdown",
      "source": [
        "### Compute CONCORDEX for simulated data\n",
        "\n",
        "If Colab times out during this step, then load in the results file in the next section."
      ],
      "metadata": {
        "id": "13TKb7PNos2W"
      }
    },
    {
      "cell_type": "code",
      "source": [
        "for (f in folders){\n",
        "    main <- f\n",
        "    main_dir <- path(data_dir, \"simulations\", main)\n",
        "\n",
        "    labels <- readr::read_tsv(fs::path(main_dir, \"labels.txt\"), col_names=\"assignments\")\n",
        "    labels <- tolower(labels$assignments)\n",
        "\n",
        "    mtx <- readMM(path(main_dir, \"matrix.mtx\"))\n",
        "\n",
        "\n",
        "    for (k in c(20,30,50)) {\n",
        "\n",
        "        # generate knn matrix\n",
        "        knn <- findKNN(mtx, k=k, get.distance=FALSE)\n",
        "        knn <- knn$index\n",
        "\n",
        "        knn <- as(knn, 'sparseMatrix')\n",
        "\n",
        "        out_fn <- glue(\"assignments_cdx_table_{k}.csv\")\n",
        "        # print(out_fn)\n",
        "\n",
        "        for (i in seq(1,15,2)){\n",
        "            res_dir <- path(main_dir, i, \"ca\")\n",
        "            out_dir <- path(main_dir, i, \"ca\")\n",
        "\n",
        "\n",
        "            ca_labels <- read_csv(\n",
        "                path(res_dir, \"assignments_cellassign.csv\"),\n",
        "                show_col_types = FALSE)\n",
        "\n",
        "            ca_labels <- tolower(ca_labels$cell_type)\n",
        "            frac_correct <- sum(labels == ca_labels)/length(labels)\n",
        "\n",
        "            options(show.error.messages = FALSE)\n",
        "            cdx <- try(calculateConcordex(knn, ca_labels,k=k))\n",
        "            main_spl <- unlist(stringr::str_split(main, \"_\"))\n",
        "\n",
        "            if (class(cdx) == \"try-error\"){\n",
        "                out <- tibble::tibble_row(\n",
        "                    no_cells = as.integer(main_spl[1]),\n",
        "                    no_celltypes = as.integer(main_spl[2]),\n",
        "                    no_markers=i,\n",
        "                    k=k,\n",
        "                    frac_correct=frac_correct,\n",
        "                    concordex = NA_real_,\n",
        "                    mean_random_cdx = NA_real_,\n",
        "                    concordex_ratio = NA_real_)\n",
        "\n",
        "            } else {\n",
        "                out <- tibble::tibble_row(\n",
        "                    no_cells = as.integer(main_spl[1]),\n",
        "                    no_celltypes = as.integer(main_spl[2]),\n",
        "                    no_markers=i,\n",
        "                    k=k,\n",
        "                    frac_correct=frac_correct,\n",
        "                    concordex = cdx$concordex,\n",
        "                    mean_random_cdx = cdx$mean_random_concordex,\n",
        "                    concordex_ratio = cdx$concordex_ratio)\n",
        "            }\n",
        "\n",
        "            write_csv(out, fs::path(out_dir, out_fn))\n",
        "        }\n",
        "    }\n",
        "}"
      ],
      "metadata": {
        "id": "0B08l2nwgICt"
      },
      "execution_count": null,
      "outputs": []
    },
    {
      "cell_type": "code",
      "source": [
        "# Useful for loading in multiple files with same column names\n",
        "cn <- c(\"no_cells\", \"no_celltypes\", \"no_markers\",\"k\", \"frac_correct\",\n",
        "        \"concordex\", \"mean_random_cdx\", \"concordex_ratio\")\n",
        "\n",
        "\n",
        "\n",
        "cdx_data <- list.files(dirs, \"*cdx_table_[235]0.csv\", full.names=TRUE) %>%\n",
        "  map_df(~read_csv(., col_names=TRUE))"
      ],
      "metadata": {
        "id": "P5Nyss32o9NA"
      },
      "execution_count": null,
      "outputs": []
    },
    {
      "cell_type": "markdown",
      "source": [
        "Sometimes, Colab times out when computing CONCORDEX. This can happen while loading the matrices with 8000 cells. The file with the simulated CONCORDEX results is in the GitHub repo and can be loaded here if that happens"
      ],
      "metadata": {
        "id": "PS4mewZToy6c"
      }
    },
    {
      "cell_type": "code",
      "source": [
        "# Uncomment this line if Colab times out while running previous step.\n",
        "# cdx_data <- read_csv(path(data_dir, \"simulations\", \"assignments_cdx_table.csv\"))"
      ],
      "metadata": {
        "id": "frSayKj8zxPS"
      },
      "execution_count": null,
      "outputs": []
    },
    {
      "cell_type": "code",
      "source": [
        "head(cdx_data)"
      ],
      "metadata": {
        "id": "7WlwyJaZuks6"
      },
      "execution_count": null,
      "outputs": []
    },
    {
      "cell_type": "code",
      "source": [
        "cdx_data <- cdx_data %>%\n",
        "  mutate(frac_correct2 = round(frac_correct*100),\n",
        "           k = factor(k), no_celltypes=factor(no_celltypes))"
      ],
      "metadata": {
        "id": "UVS7okL8ulEf"
      },
      "execution_count": null,
      "outputs": []
    },
    {
      "cell_type": "markdown",
      "source": [
        "## Figure 1"
      ],
      "metadata": {
        "id": "cjnSluOcqQwb"
      }
    },
    {
      "cell_type": "code",
      "source": [
        "cdx_data %>%\n",
        "    filter(no_celltypes==8, k==30) %>%\n",
        "    ggplot(\n",
        "        aes(concordex_ratio, frac_correct2)\n",
        "        ) +\n",
        "    geom_hline(\n",
        "        yintercept = 50,\n",
        "        linetype=2,\n",
        "        color=\"#636363\"\n",
        "    ) +\n",
        "    geom_vline(\n",
        "        xintercept = 1,\n",
        "        linetype=2,\n",
        "        color=\"#636363\"\n",
        "    ) +\n",
        "    geom_point() +\n",
        "    labs(\n",
        "        x = \"Concordex Ratio\",\n",
        "        y = \"Fraction of Correctly Assigned Cells (%)\"\n",
        "    ) +\n",
        "    theme_bw() +\n",
        "    theme(\n",
        "        aspect.ratio = 1/1.5,\n",
        "        panel.background=element_blank(),\n",
        "        plot.background=element_blank()\n",
        "    )"
      ],
      "metadata": {
        "id": "qNAFRDo5ymfK"
      },
      "execution_count": null,
      "outputs": []
    },
    {
      "cell_type": "markdown",
      "source": [
        "## Supplementary Figure 1"
      ],
      "metadata": {
        "id": "GTY7pwMpqX_S"
      }
    },
    {
      "cell_type": "code",
      "source": [
        "fig1sup <- cdx_data %>%\n",
        "    mutate(frac_correct2 = round(frac_correct*100),\n",
        "           k = factor(k), no_celltypes=factor(no_celltypes)) %>%\n",
        "    ggplot(\n",
        "        aes(concordex_ratio, frac_correct2,color=k)) +\n",
        "    geom_hline(\n",
        "        yintercept = 50,\n",
        "        linetype=2,\n",
        "        color=\"#636363\"\n",
        "    ) +\n",
        "    geom_vline(\n",
        "        xintercept = 1,\n",
        "        linetype=2,\n",
        "        color=\"#636363\"\n",
        "    ) +\n",
        "    geom_point() +\n",
        "    facet_wrap(vars(no_celltypes, k),ncol = 3) +\n",
        "    labs(\n",
        "        x = \"Concordex Ratio\",\n",
        "        y = \"Fraction of Correctly Assigned Cells (%)\"\n",
        "    ) +\n",
        "    theme_bw() +\n",
        "    theme(\n",
        "        aspect.ratio=1,\n",
        "        plot.background = element_blank(),\n",
        "        panel.background = element_blank()\n",
        "    ) +\n",
        "    scale_color_viridis_d()\n",
        "\n",
        "  fig1sup"
      ],
      "metadata": {
        "colab": {
          "base_uri": "https://localhost:8080/",
          "height": 437
        },
        "id": "26wazlRJvb-m",
        "outputId": "96e0d496-4216-4073-cfeb-846ade2f0b9a"
      },
      "execution_count": null,
      "outputs": [
        {
          "output_type": "display_data",
          "data": {
            "text/plain": [
              "plot without title"
            ],
            "image/png": "[encoded data removed]"
          },
          "metadata": {
            "image/png": {
              "width": 420,
              "height": 420
            }
          }
        }
      ]
    },
    {
      "cell_type": "code",
      "source": [],
      "metadata": {
        "id": "DHuTkHvivw_5"
      },
      "execution_count": null,
      "outputs": []
    }
  ],
  "metadata": {
    "colab": {
      "provenance": [],
      "collapsed_sections": [
        "IB-rVmzkTYn1",
        "PBCQe9xrTgv4",
        "9-OwDK0HNUl2",
        "AjIPw4f0eiaa",
        "cjnSluOcqQwb",
        "GTY7pwMpqX_S"
      ],
      "include_colab_link": true
    },
    "kernelspec": {
      "display_name": "R",
      "name": "ir"
    }
  },
  "nbformat": 4,
  "nbformat_minor": 0
}